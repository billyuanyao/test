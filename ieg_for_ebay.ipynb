{
 "cells": [
  {
   "cell_type": "code",
   "execution_count": 7,
   "metadata": {
    "collapsed": true
   },
   "outputs": [],
   "source": [
    "import teradata\n",
    "import pandas as pd\n",
    "import sys\n",
    "import xlrd\n",
    "import csv"
   ]
  },
  {
   "cell_type": "code",
   "execution_count": 2,
   "metadata": {
    "collapsed": true
   },
   "outputs": [],
   "source": [
    "udaExec = teradata.UdaExec (appName=\"iEG for eBay\", version=\"1.0\",\n",
    "        logConsole=False)"
   ]
  },
  {
   "cell_type": "code",
   "execution_count": 3,
   "metadata": {
    "collapsed": true
   },
   "outputs": [],
   "source": [
    "simba = udaExec.connect(method=\"odbc\", system=\"simba.vip.paypal.com\",\n",
    "        username=\"yuanyao\", password=\"passsword\");\n",
    "idi = udaExec.connect(method=\"odbc\", system=\"leopard.lvs.paypal.com\",\n",
    "        username=\"yuanyao\", password=\"password\");"
   ]
  },
  {
   "cell_type": "code",
   "execution_count": 4,
   "metadata": {
    "collapsed": false
   },
   "outputs": [
    {
     "data": {
      "text/plain": [
       "'18182'"
      ]
     },
     "execution_count": 4,
     "metadata": {},
     "output_type": "execute_result"
    }
   ],
   "source": [
    "lb= open('last_batch', 'r')\n",
    "last_batch = lb.read()\n",
    "last_batch"
   ]
  },
  {
   "cell_type": "code",
   "execution_count": 5,
   "metadata": {
    "collapsed": true
   },
   "outputs": [],
   "source": [
    "fd = open('ieg_for_ebay.sql', 'r')\n",
    "sqlFile = fd.read()\n",
    "fd.close()\n",
    "sqlrep=sqlFile.replace('last_batch', last_batch)\n",
    "sqlCommands = sqlrep.split(';')\n",
    "sqlCommands\n",
    "cdd=idi.cursor()\n",
    "for command in sqlCommands: cdd.execute(command)"
   ]
  },
  {
   "cell_type": "code",
   "execution_count": 6,
   "metadata": {
    "collapsed": true
   },
   "outputs": [],
   "source": [
    "sql_query=\"\"\" select max(batch_num) as max_batch  from pp_scratch_risk.ieg_leads_ebay_load;\"\"\"\n",
    "df=pd.read_sql(sql_query,idi)\n",
    "num=str(int(df['max_batch'][0]))\n",
    "num\n",
    "with open('last_batch','w') as test_file:\n",
    "    test_file.write(num)"
   ]
  },
  {
   "cell_type": "code",
   "execution_count": null,
   "metadata": {
    "collapsed": true
   },
   "outputs": [],
   "source": [
    "scur = simba.cursor()\n",
    "csv_data = csv.reader(file('output.csv'))\n",
    "for row in csv_data:\n",
    "\n",
    "    scur.execute('INSERT INTO testcsv(names, \\\n",
    "          classes, mark )' \\\n",
    "          'VALUES(\"%s\", \"%s\", \"%s\")', \n",
    "          row)\n",
    "#close the connection to the database.\n",
    "mydb.commit()\n",
    "cursor.close()\n"
   ]
  }
 ],
 "metadata": {
  "kernelspec": {
   "display_name": "Python [Root]",
   "language": "python",
   "name": "Python [Root]"
  },
  "language_info": {
   "codemirror_mode": {
    "name": "ipython",
    "version": 3
   },
   "file_extension": ".py",
   "mimetype": "text/x-python",
   "name": "python",
   "nbconvert_exporter": "python",
   "pygments_lexer": "ipython3",
   "version": "3.5.2"
  }
 },
 "nbformat": 4,
 "nbformat_minor": 0
}
